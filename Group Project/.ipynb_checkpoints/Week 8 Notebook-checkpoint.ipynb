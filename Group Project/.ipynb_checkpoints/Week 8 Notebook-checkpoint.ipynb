{
 "cells": [
  {
   "cell_type": "markdown",
   "id": "628fd059-cf37-4445-8037-8fbcd23df251",
   "metadata": {},
   "source": [
    "### Import libraries"
   ]
  },
  {
   "cell_type": "code",
   "execution_count": null,
   "id": "7cdbdb09-b28c-4324-998c-fe5fc5eb02ca",
   "metadata": {},
   "outputs": [],
   "source": [
    "import pandas as pd\n",
    "\n",
    "import geopandas as gpd\n",
    "\n",
    "import contextily as ctx\n",
    "\n",
    "import matplotlib.pyplot as plt\n",
    "\n",
    "import plotly.express as px"
   ]
  },
  {
   "cell_type": "markdown",
   "id": "c44efd01-32ad-4d8a-821c-42f0716b5fbb",
   "metadata": {},
   "source": [
    "## Import Datasets"
   ]
  },
  {
   "cell_type": "markdown",
   "id": "bcaf29c3-7941-441f-a4ec-c8e321c92a1c",
   "metadata": {},
   "source": [
    "### Quality of Life GeoJSONs"
   ]
  },
  {
   "cell_type": "code",
   "execution_count": null,
   "id": "9e508941-f371-4060-ada4-ff08848a51d0",
   "metadata": {},
   "outputs": [],
   "source": [
    "gdf_2011 = gpd.read_file('data_2011_clean')"
   ]
  },
  {
   "cell_type": "code",
   "execution_count": null,
   "id": "08253709-e202-46ea-b8af-a2184c9da922",
   "metadata": {},
   "outputs": [],
   "source": [
    "gdf_2017 = gpd.read_file('data_2017_clean')"
   ]
  },
  {
   "cell_type": "markdown",
   "id": "f07b43d7-1ebf-4dce-b9b6-8d094bea1a7c",
   "metadata": {},
   "source": [
    "### Transportation Data"
   ]
  },
  {
   "cell_type": "code",
   "execution_count": null,
   "id": "9c8b9846-7441-403a-bc00-0a6cb98810ab",
   "metadata": {},
   "outputs": [],
   "source": [
    "BRT_line = gpd.read_file('Gauteng_BRT_lines.zip', encoding=\"utf-8\")"
   ]
  },
  {
   "cell_type": "code",
   "execution_count": null,
   "id": "b4a35d60-fe7d-444c-b150-00a97334ff1d",
   "metadata": {},
   "outputs": [],
   "source": [
    "gdf_2011.info()"
   ]
  },
  {
   "cell_type": "code",
   "execution_count": null,
   "id": "cb3a5d64-223f-4063-a78c-ce58805a09da",
   "metadata": {},
   "outputs": [],
   "source": [
    "gdf_2017.info()"
   ]
  },
  {
   "cell_type": "markdown",
   "id": "b71024b6-4c52-40ff-8b7d-ad6ab245fa0d",
   "metadata": {},
   "source": [
    "### Interactive choropleth maps"
   ]
  },
  {
   "cell_type": "markdown",
   "id": "83090bf9-c830-4b7b-b8e0-7520af8c3498",
   "metadata": {},
   "source": [
    "#### 2011 Population Group Dataframe"
   ]
  },
  {
   "cell_type": "code",
   "execution_count": null,
   "id": "9a7a0a4a-5667-482e-bc90-95f000a6bff8",
   "metadata": {},
   "outputs": [],
   "source": [
    "pop_group_11 = pd.crosstab(index=gdf_2011['WardID'],\n",
    "                        columns=gdf_2011['A1_Pop_Group_recode'],\n",
    "                                                 margins=True,\n",
    "                       margins_name='Total Number')\n",
    "\n",
    "pop_group_11"
   ]
  },
  {
   "cell_type": "code",
   "execution_count": null,
   "id": "1edb65af-7bc8-4d33-8047-44d6ef46c7f3",
   "metadata": {},
   "outputs": [],
   "source": [
    "# create new columns and populate it with normalized data\n",
    "\n",
    "pop_group_11['Percent African Decimal'] = pop_group_11['African']/pop_group_11['Total Number']\n",
    "pop_group_11['Percent White Decimal'] = pop_group_11['White']/pop_group_11['Total Number']\n",
    "\n",
    "pop_group_11"
   ]
  },
  {
   "cell_type": "code",
   "execution_count": null,
   "id": "9db00f64-4d89-4fa5-ac41-3314d03c65ac",
   "metadata": {},
   "outputs": [],
   "source": [
    "pop_group_11.drop(['Total Number'])"
   ]
  },
  {
   "cell_type": "code",
   "execution_count": null,
   "id": "a060c660-cf85-4c22-978c-531f7a4137fa",
   "metadata": {},
   "outputs": [],
   "source": [
    "pop_group_11=pop_group_11[['Percent African Decimal', 'Percent White Decimal']]\n",
    "\n",
    "pop_group_11"
   ]
  },
  {
   "cell_type": "markdown",
   "id": "a5e6022e-f722-4e22-8bd0-59d5c72b7671",
   "metadata": {},
   "source": [
    "#### Import geo data"
   ]
  },
  {
   "cell_type": "code",
   "execution_count": null,
   "id": "321b2062-2272-4cf3-8c4d-8e7bff519dd9",
   "metadata": {},
   "outputs": [],
   "source": [
    "wards_2011 = gpd.read_file('MDB_Wards_2011.geojson')"
   ]
  },
  {
   "cell_type": "markdown",
   "id": "b3dba7dc-9f2c-4955-97a3-5c7af14114f4",
   "metadata": {},
   "source": [
    "#### Merge with other data"
   ]
  },
  {
   "cell_type": "code",
   "execution_count": null,
   "id": "33f8e4e2-8b3e-4f65-ba23-f0c8cdcb79eb",
   "metadata": {},
   "outputs": [],
   "source": [
    "pop_group_11_gdf = wards_2011.merge(pop_group_11, on='WardID')\n",
    "\n",
    "pop_group_11_gdf"
   ]
  },
  {
   "cell_type": "markdown",
   "id": "f57db254-17a6-454a-87fb-24373a3ff185",
   "metadata": {},
   "source": [
    "#### Convert geodataframe to geojson"
   ]
  },
  {
   "cell_type": "code",
   "execution_count": null,
   "id": "817ccd8a-4400-4fbb-b2a5-4d88e40fac5f",
   "metadata": {},
   "outputs": [],
   "source": [
    "pop_wards_2011 = pop_group_11_gdf.to_crs(epsg=4326) # convert the coordinate reference system to lat/long\n",
    "pop_wards_2011_json = pop_group_11_gdf.__geo_interface__ #covert to geoJSON"
   ]
  },
  {
   "cell_type": "code",
   "execution_count": null,
   "id": "e58e08ed-b809-44c1-a05f-6c7664f49ccb",
   "metadata": {},
   "outputs": [],
   "source": [
    "from mpl_toolkits.axes_grid1 import make_axes_locatable\n",
    "import plotly.graph_objects as go"
   ]
  },
  {
   "cell_type": "code",
   "execution_count": null,
   "id": "4507caf1-847b-46cd-8c73-fa30f8c9f9e6",
   "metadata": {},
   "outputs": [],
   "source": [
    "zmin = pop_wards_2011['Percent African Decimal'].min()\n",
    "zmax = pop_wards_2011['Percent African Decimal'].max()\n",
    "\n",
    "# Set the data for the map\n",
    "data = go.Choroplethmapbox(\n",
    "        geojson = pop_wards_2011_json,             #this is your GeoJSON\n",
    "        locations = pop_wards_2011.index,    #the index of this dataframe should align with the 'id' element in your geojson\n",
    "        z = pop_wards_2011['Percent African Decimal'], #sets the color value',\n",
    "        text = pop_wards_2011.WardID,    #sets text for each shape\n",
    "        colorbar=dict(thickness=20, ticklen=3, tickformat='%',outlinewidth=0), #adjusts the format of the colorbar\n",
    "        marker_line_width=1, marker_opacity=0.7, colorscale=\"Blues\", #adjust format of the plot\n",
    "        zmin=zmin, zmax=zmax,           #sets min and max of the colorbar\n",
    "        hovertemplate = \"<b>%{text}</b><br>\" +\n",
    "                    \"%{z:.1%}<br>\" +\n",
    "                    \"<extra></extra>\")  # sets the format of the text shown when you hover over each shape\n",
    "\n",
    "# Set the layout for the map\n",
    "layout = go.Layout(\n",
    "title = {'text': f\"Percent of Africans in Each Ward, 2011\",\n",
    "            'font': {'size':24}},       #format the plot title\n",
    "    mapbox1 = dict(\n",
    "        domain = {'x': [0, 1],'y': [0, 1]}, \n",
    "        center = dict(lat=-26.270760, lon=28.112268),\n",
    "        zoom = 7),                      \n",
    "    autosize=True,\n",
    "    height=650,\n",
    "    margin=dict(l=0, r=0, t=40, b=0))\n",
    "\n",
    "# Generate the map\n",
    "fig=go.Figure(data=data, layout=layout)\n",
    "fig.update_layout(mapbox_style=\"open-street-map\")\n",
    "fig.show()"
   ]
  },
  {
   "cell_type": "markdown",
   "id": "1836c129-9235-4c9a-be29-f37eff8ccf2d",
   "metadata": {},
   "source": [
    "#### 2017 Population Group Dataframe"
   ]
  },
  {
   "cell_type": "code",
   "execution_count": null,
   "id": "45103437-17d1-4441-b49b-c62da7ca3fef",
   "metadata": {},
   "outputs": [],
   "source": [
    "pop_group_17 = pd.crosstab(index=gdf_2017['WardID'],\n",
    "                        columns=gdf_2017['A1_Pop_group'],\n",
    "                                                 margins=True,\n",
    "                       margins_name='Total Number')\n",
    "\n",
    "pop_group_17"
   ]
  },
  {
   "cell_type": "code",
   "execution_count": null,
   "id": "e340ece6-78cf-45a1-9d13-14d85f789def",
   "metadata": {},
   "outputs": [],
   "source": [
    "# create new columns and populate it with normalized data\n",
    "\n",
    "pop_group_17['Percent African Decimal'] = pop_group_17['African']/pop_group_17['Total Number']\n",
    "\n",
    "pop_group_17"
   ]
  },
  {
   "cell_type": "code",
   "execution_count": null,
   "id": "5d2d0385-e09a-49e0-a6eb-772fb2199533",
   "metadata": {},
   "outputs": [],
   "source": [
    "pop_group_17.drop(['Total Number'])"
   ]
  },
  {
   "cell_type": "code",
   "execution_count": null,
   "id": "ae7c90c9-970b-438b-b3aa-d749bfe49c33",
   "metadata": {},
   "outputs": [],
   "source": [
    "pop_group_17=pop_group_17[['Percent African Decimal']]\n",
    "\n",
    "pop_group_17"
   ]
  },
  {
   "cell_type": "code",
   "execution_count": null,
   "id": "b4c4f638-3a69-471e-819a-f696e7289a7c",
   "metadata": {},
   "outputs": [],
   "source": [
    "# import geo data\n",
    "\n",
    "wards_2017 = gpd.read_file('MDB_Wards_2016.geojson')"
   ]
  },
  {
   "cell_type": "code",
   "execution_count": null,
   "id": "068e9420-fa9d-4410-8358-afa31900a934",
   "metadata": {},
   "outputs": [],
   "source": [
    "pop_group_17_gdf = wards_2017.merge(pop_group_17, on='WardID')\n",
    "\n",
    "pop_group_17_gdf"
   ]
  },
  {
   "cell_type": "markdown",
   "id": "60d7ea27-4e59-40d9-a89f-8893c4858abe",
   "metadata": {},
   "source": [
    "#### Convert geodataframe to geojson"
   ]
  },
  {
   "cell_type": "code",
   "execution_count": null,
   "id": "b72fbf8b-bf29-4607-9aba-56ba6906b78f",
   "metadata": {},
   "outputs": [],
   "source": [
    "pop_wards_2017 = pop_group_17_gdf.to_crs(epsg=4326) # convert the coordinate reference system to lat/long\n",
    "pop_wards_2017_json = pop_group_17_gdf.__geo_interface__ #covert to geoJSON"
   ]
  },
  {
   "cell_type": "code",
   "execution_count": null,
   "id": "b8d33946-1992-413f-a1f4-21c3c4d4b5c8",
   "metadata": {},
   "outputs": [],
   "source": [
    "zmin = pop_wards_2017['Percent African Decimal'].min()\n",
    "zmax = pop_wards_2017['Percent African Decimal'].max()\n",
    "\n",
    "# Set the data for the map\n",
    "data = go.Choroplethmapbox(\n",
    "        geojson = pop_wards_2017_json,             #this is your GeoJSON\n",
    "        locations = pop_wards_2017.index,    #the index of this dataframe should align with the 'id' element in your geojson\n",
    "        z = pop_wards_2017['Percent African Decimal'], #sets the color value',\n",
    "        text = pop_wards_2017.WardID,    #sets text for each shape\n",
    "        colorbar=dict(thickness=20, ticklen=3, tickformat='%',outlinewidth=0), #adjusts the format of the colorbar\n",
    "        marker_line_width=1, marker_opacity=0.7, colorscale=\"Blues\", #adjust format of the plot\n",
    "        zmin=zmin, zmax=zmax,           #sets min and max of the colorbar\n",
    "        hovertemplate = \"<b>%{text}</b><br>\" +\n",
    "                    \"%{z:.1%}<br>\" +\n",
    "                    \"<extra></extra>\")  # sets the format of the text shown when you hover over each shape\n",
    "\n",
    "# Set the layout for the map\n",
    "layout = go.Layout(\n",
    "title = {'text': f\"Percent of Africans in Each Ward, 2017\",\n",
    "            'font': {'size':24}},       #format the plot title\n",
    "    mapbox1 = dict(\n",
    "        domain = {'x': [0, 1],'y': [0, 1]}, \n",
    "        center = dict(lat=-26.270760, lon=28.112268),\n",
    "        zoom = 7),                      \n",
    "    autosize=True,\n",
    "    height=650,\n",
    "    margin=dict(l=0, r=0, t=40, b=0))\n",
    "\n",
    "# Generate the map\n",
    "fig=go.Figure(data=data, layout=layout)\n",
    "fig.update_layout(mapbox_style=\"carto-positron\")\n",
    "fig.show()"
   ]
  },
  {
   "cell_type": "code",
   "execution_count": null,
   "id": "4becafc5-e1f3-4155-b13d-8ba5c7bec034",
   "metadata": {},
   "outputs": [],
   "source": [
    "BRT_stations = gpd.read_file('BRT_stations2.geojson')"
   ]
  },
  {
   "cell_type": "code",
   "execution_count": null,
   "id": "d2ef191d-b6a4-43cb-b7d6-fb9b3d0ce1c4",
   "metadata": {},
   "outputs": [],
   "source": [
    "zmin = pop_wards_2017['Percent African Decimal'].min()\n",
    "zmax = pop_wards_2017['Percent African Decimal'].max()\n",
    "\n",
    "fig = px.choropleth_mapbox(pop_wards_2017, geojson=pop_wards_2017_json, locations=pop_wards_2017.index, color='Percent African Decimal',\n",
    "                           color_continuous_scale=\"Viridis\",\n",
    "                           range_color=(0, 1),\n",
    "                           mapbox_style=\"carto-positron\",\n",
    "                           zoom=5, center = {\"lat\":-26.270760, \"lon\": 28.112268},\n",
    "                           opacity=1,\n",
    "                          )\n",
    "\n",
    "fig.show()"
   ]
  },
  {
   "cell_type": "code",
   "execution_count": null,
   "id": "d7744761-4165-42b9-9b25-9828164e6931",
   "metadata": {},
   "outputs": [],
   "source": [
    "fig = px.choropleth(pop_wards_2017, geojson=pop_wards_2017_json, color=\"Percent African Decimal\",\n",
    "                    locations=pop_wards_2017.WardID, featureidkey=\"properties.WardID\",\n",
    "                    projection=\"mercator\"\n",
    "                   )\n",
    "fig.update_geos(fitbounds=\"locations\", visible=False)\n",
    "fig.update_layout(margin={\"r\":0,\"t\":0,\"l\":0,\"b\":0})\n",
    "\n",
    "fig.add_scattermapbox(lat = your_list_of_latitudes,\n",
    "                      lon = your_list_of_longitudes,\n",
    "                      mode = 'markers+text',\n",
    "                      text = some_text,  #a list of strings, one  for each geographical position  (lon, lat)              \n",
    "                      below='',                 \n",
    "                      marke_size=12, marker_color='rgb(235, 0, 100)')\n",
    "    \n",
    "fig.show()"
   ]
  },
  {
   "cell_type": "code",
   "execution_count": null,
   "id": "d7217db9-debe-4cd7-928a-a2f8fc30a302",
   "metadata": {},
   "outputs": [],
   "source": [
    "BRT_line.info()"
   ]
  },
  {
   "cell_type": "code",
   "execution_count": null,
   "id": "5450d95f-33a6-4a7c-8e73-9d0ed375445a",
   "metadata": {},
   "outputs": [],
   "source": [
    "import numpy as np"
   ]
  },
  {
   "cell_type": "code",
   "execution_count": null,
   "id": "2b7f98fa-4859-4e47-922d-5599d6691669",
   "metadata": {},
   "outputs": [],
   "source": [
    "import shapely.geometry"
   ]
  },
  {
   "cell_type": "code",
   "execution_count": null,
   "id": "805ed5ad-fc22-4d0b-8bb9-75c0cdbd11a0",
   "metadata": {},
   "outputs": [],
   "source": [
    "lats = []\n",
    "lons = []\n",
    "names = []\n",
    "\n",
    "for feature in BRT_line.geometry:\n",
    "    if isinstance(feature, shapely.geometry.linestring.LineString):\n",
    "        linestrings = [feature]\n",
    "    else:\n",
    "        continue\n",
    "    for linestring in linestrings:\n",
    "        x, y = linestring.xy\n",
    "        lats = np.append(lats, y)\n",
    "        lons = np.append(lons, x)\n",
    "        lats = np.append(lats, None)\n",
    "        lons = np.append(lons, None)"
   ]
  },
  {
   "cell_type": "code",
   "execution_count": null,
   "id": "1bcb9d7a-fada-4201-9b17-d339b79f1108",
   "metadata": {},
   "outputs": [],
   "source": [
    "BRT_line"
   ]
  },
  {
   "cell_type": "code",
   "execution_count": null,
   "id": "79b1ff84-5541-4ba9-b41e-3288b19f50d8",
   "metadata": {},
   "outputs": [],
   "source": [
    "BRT_line.plot()"
   ]
  },
  {
   "cell_type": "code",
   "execution_count": null,
   "id": "fa8c3909-70e3-4836-8bad-2fe717784d71",
   "metadata": {},
   "outputs": [],
   "source": [
    "fig = px.line_geo(lat=lats, lon=lons)\n",
    "fig.show()"
   ]
  },
  {
   "cell_type": "code",
   "execution_count": null,
   "id": "266c839a-e517-4a79-80d0-831d24d2e75a",
   "metadata": {},
   "outputs": [],
   "source": [
    "BRT_line.info()"
   ]
  },
  {
   "cell_type": "code",
   "execution_count": null,
   "id": "220b3070-c761-407a-884d-d566c8060cdf",
   "metadata": {},
   "outputs": [],
   "source": [
    "fig = go.Figure()\n",
    "\n",
    "fig.add_trace(go.Choroplethmapbox(\n",
    "        geojson = pop_wards_2017_json,             #this is your GeoJSON\n",
    "        locations = pop_wards_2017.index,    #the index of this dataframe should align with the 'id' element in your geojson\n",
    "        z = pop_wards_2017['Percent African Decimal'], #sets the color value',\n",
    "        text = pop_wards_2017.WardID,    #sets text for each shape\n",
    "        colorbar=dict(thickness=20, ticklen=3, tickformat='%',outlinewidth=0), #adjusts the format of the colorbar\n",
    "        marker_line_width=1, marker_opacity=0.7, colorscale=\"Blues\", #adjust format of the plot\n",
    "        zmin=zmin, zmax=zmax,           #sets min and max of the colorbar\n",
    "        hovertemplate = \"<b>%{text}</b><br>\" +\n",
    "                    \"%{z:.1%}<br>\" +\n",
    "                    \"<extra></extra>\"),# sets the format of the text shown when you hover over each shape\n",
    "\n",
    "px.line_geo(lat=lats, lon=lons, hover_name=names))\n",
    "fig.update_layout(mapbox_style=\"carto-positron\")\n",
    "fig.show()"
   ]
  },
  {
   "cell_type": "markdown",
   "id": "e0253c38-4b40-47ba-99da-9743f3d8c7cb",
   "metadata": {},
   "source": [
    "### Data for statistical analysis"
   ]
  },
  {
   "cell_type": "code",
   "execution_count": null,
   "id": "664c1e00-94a2-4c28-933e-f8f0aca83ec0",
   "metadata": {},
   "outputs": [],
   "source": [
    "BRT_attitudes= pd.crosstab(index=gdf_2017['Q9_10_BW_trust'],\n",
    "                        columns=gdf_2017['Q5_11_BRT_Freq'])\n",
    "\n",
    "BRT_attitudes"
   ]
  },
  {
   "cell_type": "code",
   "execution_count": null,
   "id": "0ede1957-be12-4417-89de-711c1657207f",
   "metadata": {},
   "outputs": [],
   "source": [
    "BRT_yes_attitudes = BRT_attitudes.drop('Never', 1)\n",
    "\n",
    "BRT_yes_attitudes"
   ]
  },
  {
   "cell_type": "code",
   "execution_count": null,
   "id": "3f1fcaa4-e7cf-4092-a277-143f259d9764",
   "metadata": {},
   "outputs": [],
   "source": [
    "BRT_yes_attitudes['Use BRT'] = BRT_yes_attitudes.sum(axis=1)\n",
    "\n",
    "BRT_yes_attitudes"
   ]
  },
  {
   "cell_type": "code",
   "execution_count": null,
   "id": "994742f6-f4a1-4fa9-8f13-02773bcfd8f7",
   "metadata": {},
   "outputs": [],
   "source": [
    "BRT_attitudes"
   ]
  },
  {
   "cell_type": "code",
   "execution_count": null,
   "id": "536008a1-7871-4298-92e1-c63dc958d256",
   "metadata": {},
   "outputs": [],
   "source": [
    "BRT_no_attitudes = BRT_attitudes[['Never']]\n",
    "\n",
    "BRT_no_attitudes"
   ]
  },
  {
   "cell_type": "markdown",
   "id": "0db8c719-3f05-4458-8105-0ee19daec44e",
   "metadata": {},
   "source": [
    "Now that we have values for strongly agree and BRT use, we will conduct a statistical analysis"
   ]
  },
  {
   "cell_type": "markdown",
   "id": "6c68495d-dd4f-4511-b971-6e737f61cfa0",
   "metadata": {},
   "source": [
    "The statistical analysis (conducting outside of Python) showed us we have enough statistical analysis to claim that there is an association between BRT use and black and white trust"
   ]
  },
  {
   "cell_type": "markdown",
   "id": "eab308a5-2dbb-498a-b5ae-f3e1b6e05803",
   "metadata": {},
   "source": [
    "#### BRT Use by Ward"
   ]
  },
  {
   "cell_type": "code",
   "execution_count": null,
   "id": "4c4b52a6-628b-4328-a365-27af417e6cfd",
   "metadata": {},
   "outputs": [],
   "source": [
    "BRT_use = pd.crosstab(index=gdf_2017['WardID'],\n",
    "                        columns=gdf_2017['Q5_11_BRT_Freq'],\n",
    "                                            margins=True,\n",
    "                       margins_name='Total Number')\n",
    "\n",
    "BRT_use"
   ]
  },
  {
   "cell_type": "code",
   "execution_count": null,
   "id": "6b5476fa-48c9-4efe-aa13-3192ba7eeadc",
   "metadata": {},
   "outputs": [],
   "source": [
    "BRT_use['Use BRT'] = BRT_use['A few times a month']+BRT_use['Every few months']+BRT_use['Most days']+BRT_use['Once or twice a week']\n",
    "\n",
    "BRT_use"
   ]
  },
  {
   "cell_type": "code",
   "execution_count": null,
   "id": "f1b45d68-b9c4-47bc-855c-cf5478e59e2d",
   "metadata": {},
   "outputs": [],
   "source": [
    "BRT_use['YES Use BRT']=BRT_use['Use BRT']/BRT_use['Total Number']\n",
    "\n",
    "BRT_use"
   ]
  },
  {
   "cell_type": "code",
   "execution_count": null,
   "id": "17a005e2-7ab3-4d04-a852-e4382fd98ee5",
   "metadata": {},
   "outputs": [],
   "source": [
    "BRT_use['YES Use BRT Percent'] = BRT_use['YES Use BRT']*100"
   ]
  },
  {
   "cell_type": "code",
   "execution_count": null,
   "id": "6bf9b7cf-e99a-4c2d-b88a-1633959ca951",
   "metadata": {},
   "outputs": [],
   "source": [
    "BRT_use['NO BRT use']=BRT_use['Never']/BRT_use['Total Number']\n",
    "\n",
    "BRT_use"
   ]
  },
  {
   "cell_type": "code",
   "execution_count": null,
   "id": "342e704c-83a9-4bdb-bed0-89675a97e01d",
   "metadata": {},
   "outputs": [],
   "source": [
    "BRT_yes_no = BRT_use[['YES Use BRT', 'NO BRT use']]\n",
    "\n",
    "BRT_yes_no"
   ]
  },
  {
   "cell_type": "code",
   "execution_count": null,
   "id": "5c498725-36cc-4b73-8f89-3bf088f87249",
   "metadata": {},
   "outputs": [],
   "source": [
    "BRT_yes_no.drop('Total Number')"
   ]
  },
  {
   "cell_type": "code",
   "execution_count": null,
   "id": "c138f3ff-05cb-4b13-92f9-1772d9ea7388",
   "metadata": {},
   "outputs": [],
   "source": [
    "BRT_use.drop('Total Number')"
   ]
  },
  {
   "cell_type": "markdown",
   "id": "00a6c9ac-7d38-4597-a342-681e97d858e0",
   "metadata": {},
   "source": [
    "We are defining YES Use BRT to be all people in a ward who use BRT regardless of frequency, and those who never use BRT to fall under \"No BRT use\""
   ]
  },
  {
   "cell_type": "code",
   "execution_count": null,
   "id": "ca9c33ec-d7d6-47ef-a408-68a29c606eb8",
   "metadata": {},
   "outputs": [],
   "source": [
    "#BRT_yes_no.to_csv('BRT_use_by_ward.csv')\n",
    "# made the above code a comment to stop from creating multiple CSVs"
   ]
  },
  {
   "cell_type": "markdown",
   "id": "05a578b6-c64f-4716-8b24-b14d75e53b13",
   "metadata": {},
   "source": [
    "### BRT USE"
   ]
  },
  {
   "cell_type": "code",
   "execution_count": null,
   "id": "dce52d1c-d7b2-4cb5-aab4-ef52cd2b7586",
   "metadata": {},
   "outputs": [],
   "source": [
    "BRT_line.info()"
   ]
  },
  {
   "cell_type": "code",
   "execution_count": null,
   "id": "2b2ff471-b574-4153-a27d-9eb1c1ef518d",
   "metadata": {},
   "outputs": [],
   "source": [
    "BRT_line.head(10)"
   ]
  },
  {
   "cell_type": "code",
   "execution_count": null,
   "id": "1422636e-fc25-4b30-998c-2917ef78e98b",
   "metadata": {},
   "outputs": [],
   "source": [
    "BRT_line['Name'].value_counts()"
   ]
  },
  {
   "cell_type": "code",
   "execution_count": null,
   "id": "639cef04-4ecc-49fe-9218-da7b7c53223a",
   "metadata": {},
   "outputs": [],
   "source": [
    "BRT_line.plot(\n",
    "               cmap='Set3',\n",
    "               markersize=10,\n",
    "                   legend=True,\n",
    "    legend_kwds={'loc':'upper left','bbox_to_anchor':(1,.9)})"
   ]
  },
  {
   "cell_type": "markdown",
   "id": "824fd416-9780-4e7f-bf90-0b994deea664",
   "metadata": {
    "tags": []
   },
   "source": [
    "### Choropleth side by side maps"
   ]
  },
  {
   "cell_type": "markdown",
   "id": "7fbbf411-baa8-4d64-95b8-b4dbd30cdcac",
   "metadata": {},
   "source": [
    "I want to make sure the municipalities are outlined in the choropleth maps so I will be importing the MDB Wards files"
   ]
  },
  {
   "cell_type": "code",
   "execution_count": null,
   "id": "9aa4b713-b6bb-47a3-ab8a-ea01a06218a2",
   "metadata": {},
   "outputs": [],
   "source": [
    "local_municip_2011 = gpd.read_file('MDB_Local_Municipal_Boundary_2011.geojson')"
   ]
  },
  {
   "cell_type": "code",
   "execution_count": null,
   "id": "6cc05d80-a1e3-48c0-ae11-297e4456b96a",
   "metadata": {},
   "outputs": [],
   "source": [
    "local_municip_2017 = gpd.read_file('MDB_Local_Municipal_Boundary_2016G.geojson')"
   ]
  },
  {
   "cell_type": "code",
   "execution_count": null,
   "id": "d1201407-ee7f-42da-add0-b0595ecb5aad",
   "metadata": {},
   "outputs": [],
   "source": [
    "# create the 1x2 subplots\n",
    "# set sharex and sharey to true to scale each map equally\n",
    "fig, axs = plt.subplots(1, 2, figsize=(15, 12), sharex=True, sharey=True)\n",
    "\n",
    "# name each subplot\n",
    "ax1, ax2 = axs\n",
    "\n",
    "# 2011 on the left\n",
    "base = gdf_2011.plot(column='Percent African',\n",
    "                 legend=True,\n",
    "                 scheme='user_defined',\n",
    "                     classification_kwds={'bins':[20,40,60,80,100]},\n",
    "                     legend_kwds={'fmt':'{:.0f}', 'loc':'upper left','bbox_to_anchor':(1,.9)},\n",
    "              cmap='viridis', edgecolor='white', linewidth=0.05,\n",
    "                    zorder=1,\n",
    "                    ax=ax1)\n",
    "\n",
    "local_municip_2011.plot(ax=base,\n",
    "               facecolor=\"none\",\n",
    "                   column='LocalMunicipalityName',\n",
    "                   edgecolor='black',\n",
    "                   linewidth=1.5,\n",
    "                   legend=False,\n",
    "               zorder=1)\n",
    "\n",
    "ax1.axis(\"off\")\n",
    "ax1.set_title('Percent of Africans in each ward, 2011')\n",
    "\n",
    "# 2017 on the right\n",
    "base = gdf_2017.plot(column='Percent African',\n",
    "                 legend=True,\n",
    "                 scheme='user_defined',\n",
    "                     classification_kwds={'bins':[20,40,60,80,100]},\n",
    "                     legend_kwds={'fmt':'{:.0f}', 'loc':'upper left','bbox_to_anchor':(1,.9)},\n",
    "              cmap='viridis', edgecolor='white', linewidth=0.05,\n",
    "                    zorder=1,\n",
    "                    ax=ax2)\n",
    "\n",
    "local_municip_2017.plot(ax=base,\n",
    "               facecolor=\"none\",\n",
    "                   column='LocalMunicipalityName',\n",
    "                   edgecolor='black',\n",
    "                   linewidth=1.5,\n",
    "                   legend=False,\n",
    "               zorder=1)\n",
    "\n",
    "ax2.axis(\"off\")\n",
    "ax2.set_title('Percent of Africans in each Ward, 2017')"
   ]
  },
  {
   "cell_type": "markdown",
   "id": "91688217-2121-4d70-a84a-93ae1d1a4329",
   "metadata": {},
   "source": [
    "### Importing GEOJSON for BRT stations I made"
   ]
  },
  {
   "cell_type": "code",
   "execution_count": null,
   "id": "2a3efc5f-49f5-401f-8daf-58e8774b0594",
   "metadata": {},
   "outputs": [],
   "source": [
    "BRT_stations = gpd.read_file('BRT_stations2.geojson')"
   ]
  },
  {
   "cell_type": "code",
   "execution_count": null,
   "id": "d8e2080f-2606-4c5b-b0a0-09e071d4d0f4",
   "metadata": {},
   "outputs": [],
   "source": [
    "BRT_stations.info()"
   ]
  },
  {
   "cell_type": "code",
   "execution_count": null,
   "id": "8fe434c6-42dd-4777-8dbd-28dd16502314",
   "metadata": {},
   "outputs": [],
   "source": [
    "BRT_stations.plot(figsize=(10,10),\n",
    "                   column='Route Name')"
   ]
  },
  {
   "cell_type": "code",
   "execution_count": null,
   "id": "888ac27d-40e2-4caa-8e94-65a77582ec17",
   "metadata": {},
   "outputs": [],
   "source": [
    "BRT_stations.plot(figsize=(12,12),\n",
    "                  markersize=1)"
   ]
  },
  {
   "cell_type": "code",
   "execution_count": null,
   "id": "77d21c4d-9f2a-4aaa-9517-a27e7820038c",
   "metadata": {},
   "outputs": [],
   "source": [
    "BRT_stations['Route Name'].value_counts()"
   ]
  },
  {
   "cell_type": "markdown",
   "id": "7c01ab83-909b-4522-94b7-49baa18cbda8",
   "metadata": {},
   "source": [
    "#### BRT Use by Ward"
   ]
  },
  {
   "cell_type": "code",
   "execution_count": null,
   "id": "c2fae269-cd15-46ab-b597-1256b8a45920",
   "metadata": {},
   "outputs": [],
   "source": [
    "BRT_use_percent = BRT_use[['YES Use BRT', 'YES Use BRT Percent']]\n",
    "\n",
    "BRT_use_percent = BRT_use_percent.drop(['Total Number'])\n",
    "\n",
    "BRT_use_percent"
   ]
  },
  {
   "cell_type": "code",
   "execution_count": null,
   "id": "64a1b54c-606e-463e-bc3b-5d05a79770e7",
   "metadata": {},
   "outputs": [],
   "source": [
    "BRT_use_percent = wards_2017.merge(BRT_use_percent, on='WardID')"
   ]
  },
  {
   "cell_type": "code",
   "execution_count": null,
   "id": "b74fbd82-bf47-4d42-9686-8dc890ad9d79",
   "metadata": {},
   "outputs": [],
   "source": [
    "BRT_use_percent.plot(column='YES Use BRT Percent',\n",
    "                     figsize = (15,15),\n",
    "                 legend=True,\n",
    "                 scheme='natural_breaks',\n",
    "                     legend_kwds={'fmt':'{:.1f}', 'loc':'upper left','bbox_to_anchor':(1,.9)},\n",
    "              cmap='viridis', edgecolor='white', linewidth=0.05)"
   ]
  },
  {
   "cell_type": "code",
   "execution_count": null,
   "id": "aafdec57-092b-4445-bbec-7d88fcfbecf8",
   "metadata": {},
   "outputs": [],
   "source": [
    "base = BRT_use_percent.plot(column='YES Use BRT Percent',\n",
    "                     figsize = (14,14),\n",
    "                 legend=True,\n",
    "                            scheme='user_defined', \n",
    "         classification_kwds={'bins':[10, 20, 30, 40, 50, 60]},\n",
    "                     legend_kwds={'fmt':'{:.1f}', 'loc':'upper left','bbox_to_anchor':(1,.9)},\n",
    "              cmap='viridis', edgecolor='white', linewidth=0.05,\n",
    "                           zorder=1)\n",
    "\n",
    "BRT_line.plot(ax=base, color='white', markersize=5);\n",
    "\n",
    "\n",
    "base.axis(\"off\")\n",
    "plt.title('BRT Use in Wards, 2017', fontsize=16)"
   ]
  },
  {
   "cell_type": "markdown",
   "id": "4f2f8f44-a33f-488f-9179-e2bf3cf471b0",
   "metadata": {},
   "source": [
    "I want to see the wards that have the highest BRT use and the lowest BRT use"
   ]
  },
  {
   "cell_type": "markdown",
   "id": "b09bb63a-a352-4e01-892b-d191898f62ab",
   "metadata": {},
   "source": [
    "#### Highest BRT Use"
   ]
  },
  {
   "cell_type": "code",
   "execution_count": null,
   "id": "6cd96856-92bb-4ba3-bd36-61b2395af37a",
   "metadata": {},
   "outputs": [],
   "source": [
    "BRT_use_percent.sort_values(by = 'YES Use BRT Percent', ascending=False)['WardID'].head(10)"
   ]
  },
  {
   "cell_type": "code",
   "execution_count": null,
   "id": "c3f1f388-4b16-461b-8abc-8473278c4114",
   "metadata": {},
   "outputs": [],
   "source": [
    "BRT_use_percent.sort_values(by = 'YES Use BRT Percent', ascending=False)['YES Use BRT Percent'].head(10)"
   ]
  },
  {
   "cell_type": "markdown",
   "id": "09b34460-db19-43d1-82fb-175237ef2cd4",
   "metadata": {},
   "source": [
    "#### Lowest BRT Use"
   ]
  },
  {
   "cell_type": "code",
   "execution_count": null,
   "id": "ca235083-eb65-4265-acc8-d60a124240e1",
   "metadata": {},
   "outputs": [],
   "source": [
    "BRT_use_percent.sort_values(by = 'YES Use BRT Percent', ascending=False)['WardID'].tail(10)"
   ]
  },
  {
   "cell_type": "code",
   "execution_count": null,
   "id": "33f2ad7d-c99b-4718-970a-b63ec0e3715d",
   "metadata": {},
   "outputs": [],
   "source": [
    "BRT_use_percent.sort_values(by = 'YES Use BRT Percent', ascending=False)['YES Use BRT Percent'].tail(10)"
   ]
  },
  {
   "cell_type": "code",
   "execution_count": null,
   "id": "d72b7595-eeb0-4823-a71b-727ab62c0513",
   "metadata": {},
   "outputs": [],
   "source": [
    "BRT_use['YES Use BRT Percent'].describe()"
   ]
  },
  {
   "cell_type": "code",
   "execution_count": null,
   "id": "61341300-3a3c-40c9-ba19-895eb93b9257",
   "metadata": {},
   "outputs": [],
   "source": [
    "column1 = BRT_use_percent['YES Use BRT Percent']\n",
    "fig,ax = plt.subplots(figsize=(15,15))\n",
    "\n",
    "base = BRT_use_percent.plot(ax=ax,\n",
    "         column=column1,\n",
    "         legend=True,\n",
    "        scheme='natural_breaks',\n",
    "         cmap='viridis')\n",
    "\n",
    "BRT_use_percent[BRT_use_percent['YES Use BRT Percent'] >= 25].boundary.plot(ax=ax,\n",
    "        alpha=0.5,\n",
    "        linewidth=1.5,\n",
    "        hatch=\"///\",\n",
    "        color='black'\n",
    "        )\n",
    "\n",
    "ax.set_title('Percent BRT Use', fontsize=14)\n",
    "ax.axis('off');"
   ]
  },
  {
   "cell_type": "markdown",
   "id": "f9deef95-c9a7-43ed-953d-aacd5cc4a18c",
   "metadata": {},
   "source": [
    "I want a list of all the wards that have more than 20% of respondents who use BRT"
   ]
  },
  {
   "cell_type": "code",
   "execution_count": null,
   "id": "95fc7a39-3846-4c6f-b917-deb9f6409bd1",
   "metadata": {},
   "outputs": [],
   "source": [
    "BRT_use_percent[BRT_use_percent['YES Use BRT Percent'] > 50]\n",
    "\n",
    "# Plot it in blue\n",
    "\n",
    "BRT_use_percent[BRT_use_percent['YES Use BRT Percent'] > 20].plot(figsize=(10,8),color=\"blue\")"
   ]
  },
  {
   "cell_type": "code",
   "execution_count": null,
   "id": "c8365d46-01f0-4f9c-a665-872d9040644a",
   "metadata": {},
   "outputs": [],
   "source": [
    "BRT_use_percent[BRT_use_percent['YES Use BRT Percent'] >= 14.81]"
   ]
  },
  {
   "cell_type": "code",
   "execution_count": null,
   "id": "ec8c71e4-14a1-491f-ad23-d913c92ba412",
   "metadata": {},
   "outputs": [],
   "source": [
    "pop_2017 = gdf_2017[['WardID', 'LocalMunicipalityName', 'Percent African', 'Percent White', 'geometry']].copy()"
   ]
  },
  {
   "cell_type": "code",
   "execution_count": null,
   "id": "3a9c6c01-7b44-4a73-b546-5ac83025fbd6",
   "metadata": {},
   "outputs": [],
   "source": [
    "#pop_2017.to_file(\"pop_2017.geojson\", driver='GeoJSON')"
   ]
  },
  {
   "cell_type": "code",
   "execution_count": null,
   "id": "6ed8f392-8e2a-446a-bc89-c7e66b276497",
   "metadata": {},
   "outputs": [],
   "source": []
  }
 ],
 "metadata": {
  "kernelspec": {
   "display_name": "Python 3 (ipykernel)",
   "language": "python",
   "name": "python3"
  },
  "language_info": {
   "codemirror_mode": {
    "name": "ipython",
    "version": 3
   },
   "file_extension": ".py",
   "mimetype": "text/x-python",
   "name": "python",
   "nbconvert_exporter": "python",
   "pygments_lexer": "ipython3",
   "version": "3.9.6"
  }
 },
 "nbformat": 4,
 "nbformat_minor": 5
}
